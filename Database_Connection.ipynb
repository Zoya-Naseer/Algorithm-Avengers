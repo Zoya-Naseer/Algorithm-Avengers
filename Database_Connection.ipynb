{
 "cells": [
  {
   "cell_type": "code",
   "execution_count": 1,
   "id": "df3a940f-8fcf-425e-888c-e28523ca3604",
   "metadata": {},
   "outputs": [
    {
     "name": "stdout",
     "output_type": "stream",
     "text": [
      "Requirement already satisfied: sqlalchemy in c:\\users\\zoyan\\anaconda\\lib\\site-packages (2.0.34)\n",
      "Collecting pymysql\n",
      "  Downloading PyMySQL-1.1.1-py3-none-any.whl.metadata (4.4 kB)\n",
      "Requirement already satisfied: typing-extensions>=4.6.0 in c:\\users\\zoyan\\anaconda\\lib\\site-packages (from sqlalchemy) (4.11.0)\n",
      "Requirement already satisfied: greenlet!=0.4.17 in c:\\users\\zoyan\\anaconda\\lib\\site-packages (from sqlalchemy) (3.0.1)\n",
      "Downloading PyMySQL-1.1.1-py3-none-any.whl (44 kB)\n",
      "Installing collected packages: pymysql\n",
      "Successfully installed pymysql-1.1.1\n",
      "Note: you may need to restart the kernel to use updated packages.\n"
     ]
    }
   ],
   "source": [
    "pip install sqlalchemy pymysql\n"
   ]
  },
  {
   "cell_type": "code",
   "execution_count": 3,
   "id": "b02b65da-2b95-44dd-b3df-f7a821ca2a53",
   "metadata": {},
   "outputs": [
    {
     "name": "stdout",
     "output_type": "stream",
     "text": [
      "Database connection successful.\n",
      "accounts data uploaded successfully.\n",
      "products data uploaded successfully.\n",
      "sales_pipeline data uploaded successfully.\n",
      "sales_teams data uploaded successfully.\n",
      "data_dictionary data uploaded successfully.\n",
      "Data upload process completed.\n"
     ]
    }
   ],
   "source": [
    "import pandas as pd\n",
    "from sqlalchemy import create_engine\n",
    "from urllib.parse import quote_plus  # Safely encode special characters in the password\n",
    "\n",
    "# Database connection configuration\n",
    "username = 'root'\n",
    "password = quote_plus('ZoyaSQL!05')  # Encode special characters in the password\n",
    "host = 'localhost'\n",
    "port = 3306\n",
    "database = 'crm_sales_db'\n",
    "\n",
    "# Create the connection URL\n",
    "connection_url = f'mysql+pymysql://{username}:{password}@{host}:{port}/{database}'\n",
    "\n",
    "# Initialize the database engine\n",
    "try:\n",
    "    engine = create_engine(connection_url)\n",
    "    print(\"Database connection successful.\")\n",
    "except Exception as e:\n",
    "    print(f\"Error connecting to the database: {e}\")\n",
    "    exit()\n",
    "\n",
    "# List of CSV files and table names\n",
    "data_files = {\n",
    "    \"Accounts_Cleaned.csv\": \"accounts\",\n",
    "    \"products.csv\": \"products\",\n",
    "    \"sales_pipeline_cleaned.csv\": \"sales_pipeline\",\n",
    "    \"sales_teams.csv\": \"sales_teams\",\n",
    "    \"data_dictionary.csv\": \"data_dictionary\"\n",
    "}\n",
    "\n",
    "# Upload each DataFrame to the database\n",
    "for file_name, table_name in data_files.items():\n",
    "    try:\n",
    "        # Read CSV\n",
    "        df = pd.read_csv(file_name)\n",
    "        # Upload to database\n",
    "        df.to_sql(table_name, con=engine, if_exists='replace', index=False)\n",
    "        print(f\"{table_name} data uploaded successfully.\")\n",
    "    except FileNotFoundError:\n",
    "        print(f\"File '{file_name}' not found. Skipping...\")\n",
    "    except Exception as e:\n",
    "        print(f\"Failed to upload '{table_name}': {e}\")\n",
    "\n",
    "print(\"Data upload process completed.\")\n",
    "\n",
    "\n"
   ]
  }
 ],
 "metadata": {
  "kernelspec": {
   "display_name": "Python 3 (ipykernel)",
   "language": "python",
   "name": "python3"
  },
  "language_info": {
   "codemirror_mode": {
    "name": "ipython",
    "version": 3
   },
   "file_extension": ".py",
   "mimetype": "text/x-python",
   "name": "python",
   "nbconvert_exporter": "python",
   "pygments_lexer": "ipython3",
   "version": "3.12.7"
  }
 },
 "nbformat": 4,
 "nbformat_minor": 5
}
